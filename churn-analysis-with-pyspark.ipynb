{
 "cells": [
  {
   "attachments": {
    "cdd75f64-f9a1-4e28-bfc2-01ddda1b2fcd.jpeg": {
     "image/jpeg": "[encoded data removed]"
    }
   },
   "cell_type": "markdown",
   "id": "a783f83e",
   "metadata": {
    "papermill": {
     "duration": 0.032617,
     "end_time": "2021-11-11T23:43:14.648850",
     "exception": false,
     "start_time": "2021-11-11T23:43:14.616233",
     "status": "completed"
    },
    "tags": []
   },
   "source": [
    "![churn-nedir_3.jpeg](attachment:cdd75f64-f9a1-4e28-bfc2-01ddda1b2fcd.jpeg)"
   ]
  },
  {
   "cell_type": "markdown",
   "id": "57a758a4",
   "metadata": {
    "papermill": {
     "duration": 0.028886,
     "end_time": "2021-11-11T23:43:14.708511",
     "exception": false,
     "start_time": "2021-11-11T23:43:14.679625",
     "status": "completed"
    },
    "tags": []
   },
   "source": [
    "# Intro\n",
    "\n",
    "As we know, it is much more expensive to sign in a new client than keeping an existing one.\n",
    "\n",
    "It is advantageous for banks to know what leads a client towards the decision to leave the company.\n",
    "\n",
    "Churn prevention allows companies to develop loyalty programs and retention campaigns to keep as many customers as possible.\n",
    "\n",
    "\n",
    "**Surname**: corresponds to the record (row) number and has no effect on the output.\n",
    "\n",
    "**CreditScore**: contains random values and has no effect on customer leaving the bank.\n",
    "\n",
    "**Geography**: a customer’s location can affect their decision to leave the bank.\n",
    "\n",
    "**Gender**: it’s interesting to explore whether gender plays a role in a customer leaving the bank.\n",
    "\n",
    "**Age**: this is certainly relevant, since older customers are less likely to leave their bank than younger ones.\n",
    "\n",
    "**Tenure**: refers to the number of years that the customer has been a client of the bank. Normally, older clients are more loyal and less likely to leave a bank.\n",
    "\n",
    "**NumOfProducts**: refers to the number of products that a customer has purchased through the bank.\n",
    "\n",
    "**HasCrCard**: denotes whether or not a customer has a credit card. This column is also relevant, since people with a credit card are less likely to leave the bank.\n",
    "\n",
    "**IsActiveMember**: active customers are less likely to leave the bank.\n",
    "\n",
    "**EstimatedSalary**: as with balance, people with lower salaries are more likely to leave the bank compared to those with higher salaries.\n",
    "\n",
    "**Exited**: (Dependent Variable): whether or not the customer left the bank.\n",
    "\n",
    "**Balance**: also a very good indicator of customer churn, as people with a higher balance in their accounts are less likely to leave the bank compared to those with lower balances."
   ]
  },
  {
   "cell_type": "markdown",
   "id": "45c42e4d",
   "metadata": {
    "papermill": {
     "duration": 0.028793,
     "end_time": "2021-11-11T23:43:14.766267",
     "exception": false,
     "start_time": "2021-11-11T23:43:14.737474",
     "status": "completed"
    },
    "tags": []
   },
   "source": [
    "<h1><center><span style=\"font-family:Georgia;color:#E8DCCC;font-weight:bold;background:#97A37B\"> 📚Installation Required for Spark"
   ]
  },
  {
   "cell_type": "code",
   "execution_count": 1,
   "id": "cf7e0435",
   "metadata": {
    "_kg_hide-output": true,
    "execution": {
     "iopub.execute_input": "2021-11-11T23:43:14.828847Z",
     "iopub.status.busy": "2021-11-11T23:43:14.827691Z",
     "iopub.status.idle": "2021-11-11T23:45:07.328050Z",
     "shell.execute_reply": "2021-11-11T23:45:07.328822Z",
     "shell.execute_reply.started": "2021-11-11T20:32:35.999161Z"
    },
    "papermill": {
     "duration": 112.533737,
     "end_time": "2021-11-11T23:45:07.329286",
     "exception": false,
     "start_time": "2021-11-11T23:43:14.795549",
     "status": "completed"
    },
    "tags": []
   },
   "outputs": [
    {
     "name": "stdout",
     "output_type": "stream",
     "text": [
      "Collecting sparkmagic\r\n",
      "  Downloading sparkmagic-0.19.1.tar.gz (43 kB)\r\n",
      "\u001b[K     |████████████████████████████████| 43 kB 664 kB/s \r\n",
      "\u001b[?25hCollecting hdijupyterutils>=0.6\r\n",
      "  Downloading hdijupyterutils-0.19.1.tar.gz (5.0 kB)\r\n",
      "Collecting autovizwidget>=0.6\r\n",
      "  Downloading autovizwidget-0.19.1.tar.gz (8.7 kB)\r\n",
      "Requirement already satisfied: ipython>=4.0.2 in /opt/conda/lib/python3.7/site-packages (from sparkmagic) (7.27.0)\r\n",
      "Requirement already satisfied: nose in /opt/conda/lib/python3.7/site-packages (from sparkmagic) (1.3.7)\r\n",
      "Requirement already satisfied: mock in /opt/conda/lib/python3.7/site-packages (from sparkmagic) (4.0.3)\r\n",
      "Requirement already satisfied: pandas>=0.17.1 in /opt/conda/lib/python3.7/site-packages (from sparkmagic) (1.3.3)\r\n",
      "Requirement already satisfied: numpy in /opt/conda/lib/python3.7/site-packages (from sparkmagic) (1.19.5)\r\n",
      "Requirement already satisfied: requests in /opt/conda/lib/python3.7/site-packages (from sparkmagic) (2.25.1)\r\n",
      "Collecting ipykernel<6.0.0\r\n",
      "  Downloading ipykernel-5.5.6-py3-none-any.whl (121 kB)\r\n",
      "\u001b[K     |████████████████████████████████| 121 kB 1.2 MB/s \r\n",
      "\u001b[?25hRequirement already satisfied: ipywidgets>5.0.0 in /opt/conda/lib/python3.7/site-packages (from sparkmagic) (7.6.5)\r\n",
      "Requirement already satisfied: notebook>=4.2 in /opt/conda/lib/python3.7/site-packages (from sparkmagic) (6.4.4)\r\n",
      "Requirement already satisfied: tornado>=4 in /opt/conda/lib/python3.7/site-packages (from sparkmagic) (6.1)\r\n",
      "Collecting requests_kerberos>=0.8.0\r\n",
      "  Downloading requests_kerberos-0.13.0-py2.py3-none-any.whl (11 kB)\r\n",
      "Requirement already satisfied: plotly>=3 in /opt/conda/lib/python3.7/site-packages (from autovizwidget>=0.6->sparkmagic) (5.3.1)\r\n",
      "Requirement already satisfied: jupyter>=1 in /opt/conda/lib/python3.7/site-packages (from hdijupyterutils>=0.6->sparkmagic) (1.0.0)\r\n",
      "Requirement already satisfied: traitlets>=4.1.0 in /opt/conda/lib/python3.7/site-packages (from ipykernel<6.0.0->sparkmagic) (5.1.0)\r\n",
      "Requirement already satisfied: ipython-genutils in /opt/conda/lib/python3.7/site-packages (from ipykernel<6.0.0->sparkmagic) (0.2.0)\r\n",
      "Requirement already satisfied: jupyter-client in /opt/conda/lib/python3.7/site-packages (from ipykernel<6.0.0->sparkmagic) (7.0.3)\r\n",
      "Requirement already satisfied: pickleshare in /opt/conda/lib/python3.7/site-packages (from ipython>=4.0.2->sparkmagic) (0.7.5)\r\n",
      "Requirement already satisfied: matplotlib-inline in /opt/conda/lib/python3.7/site-packages (from ipython>=4.0.2->sparkmagic) (0.1.3)\r\n",
      "Requirement already satisfied: jedi>=0.16 in /opt/conda/lib/python3.7/site-packages (from ipython>=4.0.2->sparkmagic) (0.18.0)\r\n",
      "Requirement already satisfied: setuptools>=18.5 in /opt/conda/lib/python3.7/site-packages (from ipython>=4.0.2->sparkmagic) (58.0.4)\r\n",
      "Requirement already satisfied: prompt-toolkit!=3.0.0,!=3.0.1,<3.1.0,>=2.0.0 in /opt/conda/lib/python3.7/site-packages (from ipython>=4.0.2->sparkmagic) (3.0.20)\r\n",
      "Requirement already satisfied: pexpect>4.3 in /opt/conda/lib/python3.7/site-packages (from ipython>=4.0.2->sparkmagic) (4.8.0)\r\n",
      "Requirement already satisfied: decorator in /opt/conda/lib/python3.7/site-packages (from ipython>=4.0.2->sparkmagic) (5.1.0)\r\n",
      "Requirement already satisfied: pygments in /opt/conda/lib/python3.7/site-packages (from ipython>=4.0.2->sparkmagic) (2.10.0)\r\n",
      "Requirement already satisfied: backcall in /opt/conda/lib/python3.7/site-packages (from ipython>=4.0.2->sparkmagic) (0.2.0)\r\n",
      "Requirement already satisfied: widgetsnbextension~=3.5.0 in /opt/conda/lib/python3.7/site-packages (from ipywidgets>5.0.0->sparkmagic) (3.5.1)\r\n",
      "Requirement already satisfied: jupyterlab-widgets>=1.0.0 in /opt/conda/lib/python3.7/site-packages (from ipywidgets>5.0.0->sparkmagic) (1.0.2)\r\n",
      "Requirement already satisfied: nbformat>=4.2.0 in /opt/conda/lib/python3.7/site-packages (from ipywidgets>5.0.0->sparkmagic) (5.1.3)\r\n",
      "Requirement already satisfied: parso<0.9.0,>=0.8.0 in /opt/conda/lib/python3.7/site-packages (from jedi>=0.16->ipython>=4.0.2->sparkmagic) (0.8.2)\r\n",
      "Requirement already satisfied: qtconsole in /opt/conda/lib/python3.7/site-packages (from jupyter>=1->hdijupyterutils>=0.6->sparkmagic) (5.1.1)\r\n",
      "Requirement already satisfied: jupyter-console in /opt/conda/lib/python3.7/site-packages (from jupyter>=1->hdijupyterutils>=0.6->sparkmagic) (6.4.0)\r\n",
      "Requirement already satisfied: nbconvert in /opt/conda/lib/python3.7/site-packages (from jupyter>=1->hdijupyterutils>=0.6->sparkmagic) (6.1.0)\r\n",
      "Requirement already satisfied: jupyter-core in /opt/conda/lib/python3.7/site-packages (from nbformat>=4.2.0->ipywidgets>5.0.0->sparkmagic) (4.8.1)\r\n",
      "Requirement already satisfied: jsonschema!=2.5.0,>=2.4 in /opt/conda/lib/python3.7/site-packages (from nbformat>=4.2.0->ipywidgets>5.0.0->sparkmagic) (3.2.0)\r\n",
      "Requirement already satisfied: attrs>=17.4.0 in /opt/conda/lib/python3.7/site-packages (from jsonschema!=2.5.0,>=2.4->nbformat>=4.2.0->ipywidgets>5.0.0->sparkmagic) (21.2.0)\r\n",
      "Requirement already satisfied: pyrsistent>=0.14.0 in /opt/conda/lib/python3.7/site-packages (from jsonschema!=2.5.0,>=2.4->nbformat>=4.2.0->ipywidgets>5.0.0->sparkmagic) (0.17.3)\r\n",
      "Requirement already satisfied: six>=1.11.0 in /opt/conda/lib/python3.7/site-packages (from jsonschema!=2.5.0,>=2.4->nbformat>=4.2.0->ipywidgets>5.0.0->sparkmagic) (1.16.0)\r\n",
      "Requirement already satisfied: importlib-metadata in /opt/conda/lib/python3.7/site-packages (from jsonschema!=2.5.0,>=2.4->nbformat>=4.2.0->ipywidgets>5.0.0->sparkmagic) (4.8.1)\r\n",
      "Requirement already satisfied: Send2Trash>=1.5.0 in /opt/conda/lib/python3.7/site-packages (from notebook>=4.2->sparkmagic) (1.8.0)\r\n",
      "Requirement already satisfied: terminado>=0.8.3 in /opt/conda/lib/python3.7/site-packages (from notebook>=4.2->sparkmagic) (0.12.1)\r\n",
      "Requirement already satisfied: prometheus-client in /opt/conda/lib/python3.7/site-packages (from notebook>=4.2->sparkmagic) (0.11.0)\r\n",
      "Requirement already satisfied: jinja2 in /opt/conda/lib/python3.7/site-packages (from notebook>=4.2->sparkmagic) (3.0.2)\r\n",
      "Requirement already satisfied: pyzmq>=17 in /opt/conda/lib/python3.7/site-packages (from notebook>=4.2->sparkmagic) (22.3.0)\r\n",
      "Requirement already satisfied: argon2-cffi in /opt/conda/lib/python3.7/site-packages (from notebook>=4.2->sparkmagic) (20.1.0)\r\n",
      "Requirement already satisfied: entrypoints in /opt/conda/lib/python3.7/site-packages (from jupyter-client->ipykernel<6.0.0->sparkmagic) (0.3)\r\n",
      "Requirement already satisfied: python-dateutil>=2.1 in /opt/conda/lib/python3.7/site-packages (from jupyter-client->ipykernel<6.0.0->sparkmagic) (2.8.0)\r\n",
      "Requirement already satisfied: nest-asyncio>=1.5 in /opt/conda/lib/python3.7/site-packages (from jupyter-client->ipykernel<6.0.0->sparkmagic) (1.5.1)\r\n",
      "Requirement already satisfied: pytz>=2017.3 in /opt/conda/lib/python3.7/site-packages (from pandas>=0.17.1->sparkmagic) (2021.1)\r\n",
      "Requirement already satisfied: ptyprocess>=0.5 in /opt/conda/lib/python3.7/site-packages (from pexpect>4.3->ipython>=4.0.2->sparkmagic) (0.7.0)\r\n",
      "Requirement already satisfied: tenacity>=6.2.0 in /opt/conda/lib/python3.7/site-packages (from plotly>=3->autovizwidget>=0.6->sparkmagic) (8.0.1)\r\n",
      "Requirement already satisfied: wcwidth in /opt/conda/lib/python3.7/site-packages (from prompt-toolkit!=3.0.0,!=3.0.1,<3.1.0,>=2.0.0->ipython>=4.0.2->sparkmagic) (0.2.5)\r\n",
      "Requirement already satisfied: cryptography>=1.3 in /opt/conda/lib/python3.7/site-packages (from requests_kerberos>=0.8.0->sparkmagic) (3.4.7)\r\n",
      "Collecting pyspnego[kerberos]\r\n",
      "  Downloading pyspnego-0.3.1-py2.py3-none-any.whl (110 kB)\r\n",
      "\u001b[K     |████████████████████████████████| 110 kB 3.0 MB/s \r\n",
      "\u001b[?25hRequirement already satisfied: cffi>=1.12 in /opt/conda/lib/python3.7/site-packages (from cryptography>=1.3->requests_kerberos>=0.8.0->sparkmagic) (1.14.6)\r\n",
      "Requirement already satisfied: pycparser in /opt/conda/lib/python3.7/site-packages (from cffi>=1.12->cryptography>=1.3->requests_kerberos>=0.8.0->sparkmagic) (2.20)\r\n",
      "Requirement already satisfied: idna<3,>=2.5 in /opt/conda/lib/python3.7/site-packages (from requests->sparkmagic) (2.10)\r\n",
      "Requirement already satisfied: urllib3<1.27,>=1.21.1 in /opt/conda/lib/python3.7/site-packages (from requests->sparkmagic) (1.26.6)\r\n",
      "Requirement already satisfied: chardet<5,>=3.0.2 in /opt/conda/lib/python3.7/site-packages (from requests->sparkmagic) (4.0.0)\r\n",
      "Requirement already satisfied: certifi>=2017.4.17 in /opt/conda/lib/python3.7/site-packages (from requests->sparkmagic) (2021.10.8)\r\n",
      "Requirement already satisfied: zipp>=0.5 in /opt/conda/lib/python3.7/site-packages (from importlib-metadata->jsonschema!=2.5.0,>=2.4->nbformat>=4.2.0->ipywidgets>5.0.0->sparkmagic) (3.5.0)\r\n",
      "Requirement already satisfied: typing-extensions>=3.6.4 in /opt/conda/lib/python3.7/site-packages (from importlib-metadata->jsonschema!=2.5.0,>=2.4->nbformat>=4.2.0->ipywidgets>5.0.0->sparkmagic) (3.10.0.2)\r\n",
      "Requirement already satisfied: MarkupSafe>=2.0 in /opt/conda/lib/python3.7/site-packages (from jinja2->notebook>=4.2->sparkmagic) (2.0.1)\r\n",
      "Requirement already satisfied: pandocfilters>=1.4.1 in /opt/conda/lib/python3.7/site-packages (from nbconvert->jupyter>=1->hdijupyterutils>=0.6->sparkmagic) (1.5.0)\r\n",
      "Requirement already satisfied: nbclient<0.6.0,>=0.5.0 in /opt/conda/lib/python3.7/site-packages (from nbconvert->jupyter>=1->hdijupyterutils>=0.6->sparkmagic) (0.5.4)\r\n",
      "Requirement already satisfied: defusedxml in /opt/conda/lib/python3.7/site-packages (from nbconvert->jupyter>=1->hdijupyterutils>=0.6->sparkmagic) (0.7.1)\r\n",
      "Requirement already satisfied: bleach in /opt/conda/lib/python3.7/site-packages (from nbconvert->jupyter>=1->hdijupyterutils>=0.6->sparkmagic) (4.1.0)\r\n",
      "Requirement already satisfied: testpath in /opt/conda/lib/python3.7/site-packages (from nbconvert->jupyter>=1->hdijupyterutils>=0.6->sparkmagic) (0.5.0)\r\n",
      "Requirement already satisfied: jupyterlab-pygments in /opt/conda/lib/python3.7/site-packages (from nbconvert->jupyter>=1->hdijupyterutils>=0.6->sparkmagic) (0.1.2)\r\n",
      "Requirement already satisfied: mistune<2,>=0.8.1 in /opt/conda/lib/python3.7/site-packages (from nbconvert->jupyter>=1->hdijupyterutils>=0.6->sparkmagic) (0.8.4)\r\n",
      "Requirement already satisfied: packaging in /opt/conda/lib/python3.7/site-packages (from bleach->nbconvert->jupyter>=1->hdijupyterutils>=0.6->sparkmagic) (21.0)\r\n",
      "Requirement already satisfied: webencodings in /opt/conda/lib/python3.7/site-packages (from bleach->nbconvert->jupyter>=1->hdijupyterutils>=0.6->sparkmagic) (0.5.1)\r\n",
      "Requirement already satisfied: pyparsing>=2.0.2 in /opt/conda/lib/python3.7/site-packages (from packaging->bleach->nbconvert->jupyter>=1->hdijupyterutils>=0.6->sparkmagic) (2.4.7)\r\n",
      "Collecting gssapi>=1.5.0\r\n",
      "  Downloading gssapi-1.7.2.tar.gz (1.2 MB)\r\n",
      "\u001b[K     |████████████████████████████████| 1.2 MB 3.0 MB/s \r\n",
      "\u001b[?25hCollecting krb5\r\n",
      "  Downloading krb5-0.2.0.tar.gz (1.1 MB)\r\n",
      "\u001b[K     |████████████████████████████████| 1.1 MB 39.8 MB/s \r\n",
      "\u001b[?25h  Installing build dependencies ... \u001b[?25l-\b \b\\\b \b|\b \b/\b \b-\b \bdone\r\n",
      "\u001b[?25h  Getting requirements to build wheel ... \u001b[?25l-\b \bdone\r\n",
      "\u001b[?25h    Preparing wheel metadata ... \u001b[?25l-\b \bdone\r\n",
      "\u001b[?25hRequirement already satisfied: qtpy in /opt/conda/lib/python3.7/site-packages (from qtconsole->jupyter>=1->hdijupyterutils>=0.6->sparkmagic) (1.11.1)\r\n",
      "Building wheels for collected packages: sparkmagic, autovizwidget, hdijupyterutils, gssapi, krb5\r\n",
      "  Building wheel for sparkmagic (setup.py) ... \u001b[?25l-\b \b\\\b \bdone\r\n",
      "\u001b[?25h  Created wheel for sparkmagic: filename=sparkmagic-0.19.1-py3-none-any.whl size=64701 sha256=7197cb46b2ffb4a55b7502327310a3ac64019c94402320688b513d2a36c8903e\r\n",
      "  Stored in directory: /root/.cache/pip/wheels/77/00/d5/153197547803fa423ee3d0a7a1ff19f138cbcc385a5d11e0dd\r\n",
      "  Building wheel for autovizwidget (setup.py) ... \u001b[?25l-\b \b\\\b \bdone\r\n",
      "\u001b[?25h  Created wheel for autovizwidget: filename=autovizwidget-0.19.1-py3-none-any.whl size=14544 sha256=611ce941cfca1211f62f62c255d46b1d71ed2b63f3441f1bb67a83648bb7b104\r\n",
      "  Stored in directory: /root/.cache/pip/wheels/09/76/d9/ff313b7bd4ff55b1ff8c299f31889f525dc5129556853e1330\r\n",
      "  Building wheel for hdijupyterutils (setup.py) ... \u001b[?25l-\b \b\\\b \bdone\r\n",
      "\u001b[?25h  Created wheel for hdijupyterutils: filename=hdijupyterutils-0.19.1-py3-none-any.whl size=7675 sha256=39e49910f09e05f78245e8c87bc6a38f870c8eba8c42de05c543d79aeaf72e04\r\n",
      "  Stored in directory: /root/.cache/pip/wheels/18/64/eb/292698b4780fb4eed0d7521f8e8acac011eda244f368b88aa0\r\n",
      "  Building wheel for gssapi (setup.py) ... \u001b[?25l-\b \b\\\b \b|\b \b/\b \b-\b \b\\\b \b|\b \b/\b \b-\b \b\\\b \b|\b \b/\b \b-\b \b\\\b \b|\b \b/\b \b-\b \b\\\b \b|\b \b/\b \b-\b \b\\\b \b|\b \b/\b \b-\b \b\\\b \b|\b \b/\b \b-\b \b\\\b \b|\b \b/\b \b-\b \b\\\b \b|\b \b/\b \b-\b \b\\\b \b|\b \b/\b \bdone\r\n",
      "\u001b[?25h  Created wheel for gssapi: filename=gssapi-1.7.2-cp37-cp37m-linux_x86_64.whl size=2828921 sha256=faecb7c3b7b6627e1567bb1c2c9da015e563a16f478511cf48349b65e10c8599\r\n",
      "  Stored in directory: /root/.cache/pip/wheels/7d/4a/6e/8842dfec4065ade6e79c0bd2c27217fec1d7f14d0b32452a8f\r\n",
      "  Building wheel for krb5 (PEP 517) ... \u001b[?25l-\b \b\\\b \b|\b \b/\b \b-\b \b\\\b \b|\b \b/\b \b-\b \b\\\b \b|\b \b/\b \b-\b \b\\\b \b|\b \bdone\r\n",
      "\u001b[?25h  Created wheel for krb5: filename=krb5-0.2.0-cp37-cp37m-linux_x86_64.whl size=1802467 sha256=0e91464e381424c2694dcda08c52a3afc3e1e015ddc381a4a50e263bca7dc0ae\r\n",
      "  Stored in directory: /root/.cache/pip/wheels/09/f9/57/67fd688ebb69ae46210f945dbe258cc694c7697e698267d461\r\n",
      "Successfully built sparkmagic autovizwidget hdijupyterutils gssapi krb5\r\n",
      "Installing collected packages: ipykernel, pyspnego, krb5, gssapi, hdijupyterutils, requests-kerberos, autovizwidget, sparkmagic\r\n",
      "  Attempting uninstall: ipykernel\r\n",
      "    Found existing installation: ipykernel 6.4.1\r\n",
      "    Uninstalling ipykernel-6.4.1:\r\n",
      "      Successfully uninstalled ipykernel-6.4.1\r\n",
      "\u001b[31mERROR: pip's dependency resolver does not currently take into account all the packages that are installed. This behaviour is the source of the following dependency conflicts.\r\n",
      "beatrix-jupyterlab 3.1.1 requires google-cloud-bigquery-storage, which is not installed.\u001b[0m\r\n",
      "Successfully installed autovizwidget-0.19.1 gssapi-1.7.2 hdijupyterutils-0.19.1 ipykernel-5.5.6 krb5-0.2.0 pyspnego-0.3.1 requests-kerberos-0.13.0 sparkmagic-0.19.1\r\n",
      "\u001b[33mWARNING: Running pip as the 'root' user can result in broken permissions and conflicting behaviour with the system package manager. It is recommended to use a virtual environment instead: https://pip.pypa.io/warnings/venv\u001b[0m\r\n",
      "Note: you may need to restart the kernel to use updated packages.\n"
     ]
    }
   ],
   "source": [
    "pip install sparkmagic"
   ]
  },
  {
   "cell_type": "code",
   "execution_count": 2,
   "id": "f1be9eb0",
   "metadata": {
    "_kg_hide-output": true,
    "execution": {
     "iopub.execute_input": "2021-11-11T23:45:07.474260Z",
     "iopub.status.busy": "2021-11-11T23:45:07.473536Z",
     "iopub.status.idle": "2021-11-11T23:45:52.915166Z",
     "shell.execute_reply": "2021-11-11T23:45:52.914359Z",
     "shell.execute_reply.started": "2021-11-11T20:34:31.368362Z"
    },
    "papermill": {
     "duration": 45.51906,
     "end_time": "2021-11-11T23:45:52.915381",
     "exception": false,
     "start_time": "2021-11-11T23:45:07.396321",
     "status": "completed"
    },
    "tags": []
   },
   "outputs": [
    {
     "name": "stdout",
     "output_type": "stream",
     "text": [
      "Collecting pyspark\r\n",
      "  Downloading pyspark-3.2.0.tar.gz (281.3 MB)\r\n",
      "\u001b[K     |████████████████████████████████| 281.3 MB 37 kB/s \r\n",
      "\u001b[?25hCollecting py4j==0.10.9.2\r\n",
      "  Downloading py4j-0.10.9.2-py2.py3-none-any.whl (198 kB)\r\n",
      "\u001b[K     |████████████████████████████████| 198 kB 66.9 MB/s \r\n",
      "\u001b[?25hBuilding wheels for collected packages: pyspark\r\n",
      "  Building wheel for pyspark (setup.py) ... \u001b[?25l-\b \b\\\b \b|\b \b/\b \b-\b \b\\\b \b|\b \b/\b \b-\b \b\\\b \b|\b \b/\b \b-\b \b\\\b \b|\b \b/\b \b-\b \b\\\b \b|\b \b/\b \b-\b \b\\\b \b|\b \b/\b \b-\b \b\\\b \b|\b \b/\b \b-\b \b\\\b \b|\b \b/\b \b-\b \b\\\b \b|\b \b/\b \b-\b \b\\\b \b|\b \b/\b \b-\b \b\\\b \b|\b \b/\b \b-\b \b\\\b \b|\b \b/\b \b-\b \b\\\b \b|\b \b/\b \b-\b \b\\\b \b|\b \b/\b \b-\b \b\\\b \b|\b \b/\b \bdone\r\n",
      "\u001b[?25h  Created wheel for pyspark: filename=pyspark-3.2.0-py2.py3-none-any.whl size=281805912 sha256=b3322a4c0fe6c43c8c9d065b49f79cb40883830c1f96ce7848e4a2764ff9334c\r\n",
      "  Stored in directory: /root/.cache/pip/wheels/0b/de/d2/9be5d59d7331c6c2a7c1b6d1a4f463ce107332b1ecd4e80718\r\n",
      "Successfully built pyspark\r\n",
      "Installing collected packages: py4j, pyspark\r\n",
      "Successfully installed py4j-0.10.9.2 pyspark-3.2.0\r\n",
      "\u001b[33mWARNING: Running pip as the 'root' user can result in broken permissions and conflicting behaviour with the system package manager. It is recommended to use a virtual environment instead: https://pip.pypa.io/warnings/venv\u001b[0m\r\n",
      "Note: you may need to restart the kernel to use updated packages.\n"
     ]
    }
   ],
   "source": [
    "pip install pyspark"
   ]
  },
  {
   "cell_type": "markdown",
   "id": "49ba5449",
   "metadata": {
    "papermill": {
     "duration": 0.208795,
     "end_time": "2021-11-11T23:45:53.411388",
     "exception": false,
     "start_time": "2021-11-11T23:45:53.202593",
     "status": "completed"
    },
    "tags": []
   },
   "source": [
    "<h1><center><span style=\"font-family:Georgia;color:#E8DCCC;font-weight:bold;background:#97A37B\"> 📚Importing Libraries"
   ]
  },
  {
   "cell_type": "code",
   "execution_count": 3,
   "id": "52e9ce5f",
   "metadata": {
    "_kg_hide-output": true,
    "execution": {
     "iopub.execute_input": "2021-11-11T23:45:53.831705Z",
     "iopub.status.busy": "2021-11-11T23:45:53.831011Z",
     "iopub.status.idle": "2021-11-11T23:45:54.842272Z",
     "shell.execute_reply": "2021-11-11T23:45:54.842828Z",
     "shell.execute_reply.started": "2021-11-11T20:35:20.997941Z"
    },
    "papermill": {
     "duration": 1.225587,
     "end_time": "2021-11-11T23:45:54.843021",
     "exception": false,
     "start_time": "2021-11-11T23:45:53.617434",
     "status": "completed"
    },
    "tags": []
   },
   "outputs": [],
   "source": [
    "# libraries\n",
    "import warnings\n",
    "# import findspark\n",
    "import pandas as pd\n",
    "import seaborn as sns\n",
    "from pyspark.ml.classification import GBTClassifier, LogisticRegression\n",
    "from pyspark.ml.evaluation import BinaryClassificationEvaluator\n",
    "from pyspark.ml.evaluation import MulticlassClassificationEvaluator\n",
    "from pyspark.ml.feature import StringIndexer, VectorAssembler, OneHotEncoder, StandardScaler\n",
    "from pyspark.ml.tuning import ParamGridBuilder, CrossValidator\n",
    "from pyspark.sql import SparkSession\n",
    "from pyspark.ml.feature import Bucketizer\n",
    "\n",
    "warnings.filterwarnings(\"ignore\", category=DeprecationWarning)\n",
    "warnings.filterwarnings(\"ignore\", category=FutureWarning)\n",
    "\n",
    "pd.set_option('display.max_columns', None)\n",
    "pd.set_option('display.float_format', lambda x: '%.2f' % x)"
   ]
  },
  {
   "cell_type": "markdown",
   "id": "db3b6b07",
   "metadata": {
    "papermill": {
     "duration": 0.204056,
     "end_time": "2021-11-11T23:45:55.255963",
     "exception": false,
     "start_time": "2021-11-11T23:45:55.051907",
     "status": "completed"
    },
    "tags": []
   },
   "source": [
    "<h1><center><span style=\"font-family:Georgia;color:#E8DCCC;font-weight:bold;background:#97A37B\"> 🪢Creating A Spark Session"
   ]
  },
  {
   "cell_type": "code",
   "execution_count": 4,
   "id": "2485cc58",
   "metadata": {
    "_kg_hide-output": true,
    "execution": {
     "iopub.execute_input": "2021-11-11T23:45:55.666849Z",
     "iopub.status.busy": "2021-11-11T23:45:55.666202Z",
     "iopub.status.idle": "2021-11-11T23:46:01.531706Z",
     "shell.execute_reply": "2021-11-11T23:46:01.530459Z",
     "shell.execute_reply.started": "2021-11-11T20:35:22.255877Z"
    },
    "papermill": {
     "duration": 6.072513,
     "end_time": "2021-11-11T23:46:01.531964",
     "exception": false,
     "start_time": "2021-11-11T23:45:55.459451",
     "status": "completed"
    },
    "tags": []
   },
   "outputs": [
    {
     "name": "stderr",
     "output_type": "stream",
     "text": [
      "WARNING: An illegal reflective access operation has occurred\n",
      "WARNING: Illegal reflective access by org.apache.spark.unsafe.Platform (file:/opt/conda/lib/python3.7/site-packages/pyspark/jars/spark-unsafe_2.12-3.2.0.jar) to constructor java.nio.DirectByteBuffer(long,int)\n",
      "WARNING: Please consider reporting this to the maintainers of org.apache.spark.unsafe.Platform\n",
      "WARNING: Use --illegal-access=warn to enable warnings of further illegal reflective access operations\n",
      "WARNING: All illegal access operations will be denied in a future release\n",
      "Using Spark's default log4j profile: org/apache/spark/log4j-defaults.properties\n",
      "Setting default log level to \"WARN\".\n",
      "To adjust logging level use sc.setLogLevel(newLevel). For SparkR, use setLogLevel(newLevel).\n",
      "21/11/11 23:45:58 WARN NativeCodeLoader: Unable to load native-hadoop library for your platform... using builtin-java classes where applicable\n"
     ]
    }
   ],
   "source": [
    "spark = SparkSession.builder.master(\"local[*]\").getOrCreate()"
   ]
  },
  {
   "cell_type": "markdown",
   "id": "1fe1799b",
   "metadata": {
    "papermill": {
     "duration": 0.208911,
     "end_time": "2021-11-11T23:46:01.952205",
     "exception": false,
     "start_time": "2021-11-11T23:46:01.743294",
     "status": "completed"
    },
    "tags": []
   },
   "source": [
    "<h1><center><span style=\"font-family:Georgia;color:#E8DCCC;font-weight:bold;background:#97A37B\"> 🔍Exploratory Data Analysis"
   ]
  },
  {
   "cell_type": "code",
   "execution_count": 5,
   "id": "b57255c3",
   "metadata": {
    "execution": {
     "iopub.execute_input": "2021-11-11T23:46:02.366868Z",
     "iopub.status.busy": "2021-11-11T23:46:02.365808Z",
     "iopub.status.idle": "2021-11-11T23:46:08.406726Z",
     "shell.execute_reply": "2021-11-11T23:46:08.407248Z",
     "shell.execute_reply.started": "2021-11-11T20:35:29.352926Z"
    },
    "papermill": {
     "duration": 6.249804,
     "end_time": "2021-11-11T23:46:08.407435",
     "exception": false,
     "start_time": "2021-11-11T23:46:02.157631",
     "status": "completed"
    },
    "tags": []
   },
   "outputs": [
    {
     "name": "stdout",
     "output_type": "stream",
     "text": [
      "+---------+----------+--------+-----------+---------+------+---+------+---------+-------------+---------+--------------+---------------+------+\n",
      "|RowNumber|CustomerId| Surname|CreditScore|Geography|Gender|Age|Tenure|  Balance|NumOfProducts|HasCrCard|IsActiveMember|EstimatedSalary|Exited|\n",
      "+---------+----------+--------+-----------+---------+------+---+------+---------+-------------+---------+--------------+---------------+------+\n",
      "|        1|  15634602|Hargrave|        619|   France|Female| 42|     2|      0.0|            1|        1|             1|      101348.88|     1|\n",
      "|        2|  15647311|    Hill|        608|    Spain|Female| 41|     1| 83807.86|            1|        0|             1|      112542.58|     0|\n",
      "|        3|  15619304|    Onio|        502|   France|Female| 42|     8| 159660.8|            3|        1|             0|      113931.57|     1|\n",
      "|        4|  15701354|    Boni|        699|   France|Female| 39|     1|      0.0|            2|        0|             0|       93826.63|     0|\n",
      "|        5|  15737888|Mitchell|        850|    Spain|Female| 43|     2|125510.82|            1|        1|             1|        79084.1|     0|\n",
      "|        6|  15574012|     Chu|        645|    Spain|  Male| 44|     8|113755.78|            2|        1|             0|      149756.71|     1|\n",
      "|        7|  15592531|Bartlett|        822|   France|  Male| 50|     7|      0.0|            2|        1|             1|        10062.8|     0|\n",
      "|        8|  15656148|  Obinna|        376|  Germany|Female| 29|     4|115046.74|            4|        1|             0|      119346.88|     1|\n",
      "|        9|  15792365|      He|        501|   France|  Male| 44|     4|142051.07|            2|        0|             1|        74940.5|     0|\n",
      "|       10|  15592389|      H?|        684|   France|  Male| 27|     2|134603.88|            1|        1|             1|       71725.73|     0|\n",
      "+---------+----------+--------+-----------+---------+------+---+------+---------+-------------+---------+--------------+---------------+------+\n",
      "only showing top 10 rows\n",
      "\n"
     ]
    }
   ],
   "source": [
    "spark_df = spark.read.csv('../input/churn-dataset', inferSchema=True, header=True)\n",
    "spark_df.show(10)"
   ]
  },
  {
   "cell_type": "code",
   "execution_count": 6,
   "id": "4113f6b6",
   "metadata": {
    "execution": {
     "iopub.execute_input": "2021-11-11T23:46:08.871047Z",
     "iopub.status.busy": "2021-11-11T23:46:08.870240Z",
     "iopub.status.idle": "2021-11-11T23:46:09.541683Z",
     "shell.execute_reply": "2021-11-11T23:46:09.540793Z",
     "shell.execute_reply.started": "2021-11-11T20:35:36.764332Z"
    },
    "papermill": {
     "duration": 0.883101,
     "end_time": "2021-11-11T23:46:09.541905",
     "exception": false,
     "start_time": "2021-11-11T23:46:08.658804",
     "status": "completed"
    },
    "tags": []
   },
   "outputs": [
    {
     "name": "stdout",
     "output_type": "stream",
     "text": [
      "Shape:  (10000, 14)\n"
     ]
    }
   ],
   "source": [
    "print(\"Shape: \", (spark_df.count(), len(spark_df.columns)))"
   ]
  },
  {
   "cell_type": "code",
   "execution_count": 7,
   "id": "d15e91d9",
   "metadata": {
    "execution": {
     "iopub.execute_input": "2021-11-11T23:46:09.963953Z",
     "iopub.status.busy": "2021-11-11T23:46:09.963270Z",
     "iopub.status.idle": "2021-11-11T23:46:09.968071Z",
     "shell.execute_reply": "2021-11-11T23:46:09.967417Z",
     "shell.execute_reply.started": "2021-11-11T20:35:37.74965Z"
    },
    "papermill": {
     "duration": 0.215306,
     "end_time": "2021-11-11T23:46:09.968220",
     "exception": false,
     "start_time": "2021-11-11T23:46:09.752914",
     "status": "completed"
    },
    "tags": []
   },
   "outputs": [
    {
     "name": "stdout",
     "output_type": "stream",
     "text": [
      "root\n",
      " |-- RowNumber: integer (nullable = true)\n",
      " |-- CustomerId: integer (nullable = true)\n",
      " |-- Surname: string (nullable = true)\n",
      " |-- CreditScore: integer (nullable = true)\n",
      " |-- Geography: string (nullable = true)\n",
      " |-- Gender: string (nullable = true)\n",
      " |-- Age: integer (nullable = true)\n",
      " |-- Tenure: integer (nullable = true)\n",
      " |-- Balance: double (nullable = true)\n",
      " |-- NumOfProducts: integer (nullable = true)\n",
      " |-- HasCrCard: integer (nullable = true)\n",
      " |-- IsActiveMember: integer (nullable = true)\n",
      " |-- EstimatedSalary: double (nullable = true)\n",
      " |-- Exited: integer (nullable = true)\n",
      "\n"
     ]
    }
   ],
   "source": [
    "spark_df.printSchema() #types of Variables"
   ]
  },
  {
   "cell_type": "code",
   "execution_count": 8,
   "id": "fbfb4710",
   "metadata": {
    "execution": {
     "iopub.execute_input": "2021-11-11T23:46:10.398014Z",
     "iopub.status.busy": "2021-11-11T23:46:10.396842Z",
     "iopub.status.idle": "2021-11-11T23:46:10.764487Z",
     "shell.execute_reply": "2021-11-11T23:46:10.762711Z",
     "shell.execute_reply.started": "2021-11-11T20:35:37.760138Z"
    },
    "papermill": {
     "duration": 0.590911,
     "end_time": "2021-11-11T23:46:10.764767",
     "exception": false,
     "start_time": "2021-11-11T23:46:10.173856",
     "status": "completed"
    },
    "tags": []
   },
   "outputs": [
    {
     "name": "stdout",
     "output_type": "stream",
     "text": [
      "+---------+----------+--------+-----------+---------+------+---+------+---------+-------------+---------+--------------+---------------+------+\n",
      "|RowNumber|CustomerId| Surname|CreditScore|Geography|Gender|Age|Tenure|  Balance|NumOfProducts|HasCrCard|IsActiveMember|EstimatedSalary|Exited|\n",
      "+---------+----------+--------+-----------+---------+------+---+------+---------+-------------+---------+--------------+---------------+------+\n",
      "|        1|  15634602|Hargrave|        619|   France|Female| 42|     2|      0.0|            1|        1|             1|      101348.88|     1|\n",
      "|        2|  15647311|    Hill|        608|    Spain|Female| 41|     1| 83807.86|            1|        0|             1|      112542.58|     0|\n",
      "|        3|  15619304|    Onio|        502|   France|Female| 42|     8| 159660.8|            3|        1|             0|      113931.57|     1|\n",
      "|        4|  15701354|    Boni|        699|   France|Female| 39|     1|      0.0|            2|        0|             0|       93826.63|     0|\n",
      "|        5|  15737888|Mitchell|        850|    Spain|Female| 43|     2|125510.82|            1|        1|             1|        79084.1|     0|\n",
      "+---------+----------+--------+-----------+---------+------+---+------+---------+-------------+---------+--------------+---------------+------+\n",
      "only showing top 5 rows\n",
      "\n"
     ]
    }
   ],
   "source": [
    "spark_df.show(5)"
   ]
  },
  {
   "cell_type": "code",
   "execution_count": 9,
   "id": "cc531b27",
   "metadata": {
    "execution": {
     "iopub.execute_input": "2021-11-11T23:46:11.216680Z",
     "iopub.status.busy": "2021-11-11T23:46:11.215636Z",
     "iopub.status.idle": "2021-11-11T23:46:13.606633Z",
     "shell.execute_reply": "2021-11-11T23:46:13.607452Z",
     "shell.execute_reply.started": "2021-11-11T20:35:37.994169Z"
    },
    "papermill": {
     "duration": 2.607907,
     "end_time": "2021-11-11T23:46:13.607697",
     "exception": false,
     "start_time": "2021-11-11T23:46:10.999790",
     "status": "completed"
    },
    "tags": []
   },
   "outputs": [
    {
     "name": "stderr",
     "output_type": "stream",
     "text": [
      "[Stage 7:>                                                          (0 + 1) / 1]\r"
     ]
    },
    {
     "name": "stdout",
     "output_type": "stream",
     "text": [
      "+-------+------------------+-----------------+-------+-----------------+---------+------+------------------+------------------+-----------------+------------------+-------------------+-------------------+-----------------+-------------------+\n",
      "|summary|         RowNumber|       CustomerId|Surname|      CreditScore|Geography|Gender|               Age|            Tenure|          Balance|     NumOfProducts|          HasCrCard|     IsActiveMember|  EstimatedSalary|             Exited|\n",
      "+-------+------------------+-----------------+-------+-----------------+---------+------+------------------+------------------+-----------------+------------------+-------------------+-------------------+-----------------+-------------------+\n",
      "|  count|             10000|            10000|  10000|            10000|    10000| 10000|             10000|             10000|            10000|             10000|              10000|              10000|            10000|              10000|\n",
      "|   mean|            5000.5|  1.56909405694E7|   null|         650.5288|     null|  null|           38.9218|            5.0128|76485.88928799961|            1.5302|             0.7055|             0.5151|100090.2398809998|             0.2037|\n",
      "| stddev|2886.8956799071675|71936.18612274907|   null|96.65329873613035|     null|  null|10.487806451704587|2.8921743770496837|62397.40520238599|0.5816543579989917|0.45584046447513327|0.49979692845891815|57510.49281769821|0.40276858399486065|\n",
      "|    min|                 1|         15565701|  Abazu|              350|   France|Female|                18|                 0|              0.0|                 1|                  0|                  0|            11.58|                  0|\n",
      "|    max|             10000|         15815690| Zuyeva|              850|    Spain|  Male|                92|                10|        250898.09|                 4|                  1|                  1|        199992.48|                  1|\n",
      "+-------+------------------+-----------------+-------+-----------------+---------+------+------------------+------------------+-----------------+------------------+-------------------+-------------------+-----------------+-------------------+\n",
      "\n"
     ]
    },
    {
     "name": "stderr",
     "output_type": "stream",
     "text": [
      "                                                                                \r"
     ]
    }
   ],
   "source": [
    "spark_df.describe().show() #summary statistics"
   ]
  },
  {
   "cell_type": "code",
   "execution_count": 10,
   "id": "aa055900",
   "metadata": {
    "execution": {
     "iopub.execute_input": "2021-11-11T23:46:14.087740Z",
     "iopub.status.busy": "2021-11-11T23:46:14.087103Z",
     "iopub.status.idle": "2021-11-11T23:46:14.599491Z",
     "shell.execute_reply": "2021-11-11T23:46:14.598609Z",
     "shell.execute_reply.started": "2021-11-11T20:35:41.215986Z"
    },
    "papermill": {
     "duration": 0.727144,
     "end_time": "2021-11-11T23:46:14.599698",
     "exception": false,
     "start_time": "2021-11-11T23:46:13.872554",
     "status": "completed"
    },
    "tags": []
   },
   "outputs": [
    {
     "name": "stdout",
     "output_type": "stream",
     "text": [
      "+-------+------------------+-------------------+\n",
      "|summary|               age|             exited|\n",
      "+-------+------------------+-------------------+\n",
      "|  count|             10000|              10000|\n",
      "|   mean|           38.9218|             0.2037|\n",
      "| stddev|10.487806451704587|0.40276858399486065|\n",
      "|    min|                18|                  0|\n",
      "|    max|                92|                  1|\n",
      "+-------+------------------+-------------------+\n",
      "\n"
     ]
    }
   ],
   "source": [
    "spark_df.describe([\"age\", \"exited\"]).show() #summary statistics for specific variables"
   ]
  },
  {
   "cell_type": "code",
   "execution_count": 11,
   "id": "76627366",
   "metadata": {
    "execution": {
     "iopub.execute_input": "2021-11-11T23:46:15.078069Z",
     "iopub.status.busy": "2021-11-11T23:46:15.076320Z",
     "iopub.status.idle": "2021-11-11T23:46:15.616059Z",
     "shell.execute_reply": "2021-11-11T23:46:15.615054Z",
     "shell.execute_reply.started": "2021-11-11T20:35:41.82891Z"
    },
    "papermill": {
     "duration": 0.756475,
     "end_time": "2021-11-11T23:46:15.616283",
     "exception": false,
     "start_time": "2021-11-11T23:46:14.859808",
     "status": "completed"
    },
    "tags": []
   },
   "outputs": [
    {
     "name": "stdout",
     "output_type": "stream",
     "text": [
      "+------+-----+\n",
      "|exited|count|\n",
      "+------+-----+\n",
      "|     1| 2037|\n",
      "|     0| 7963|\n",
      "+------+-----+\n",
      "\n"
     ]
    }
   ],
   "source": [
    "spark_df.groupby(\"exited\").count().show() #class statistics of categorical variables"
   ]
  },
  {
   "cell_type": "code",
   "execution_count": 12,
   "id": "0e880d77",
   "metadata": {
    "execution": {
     "iopub.execute_input": "2021-11-11T23:46:16.102596Z",
     "iopub.status.busy": "2021-11-11T23:46:16.101908Z",
     "iopub.status.idle": "2021-11-11T23:46:16.400565Z",
     "shell.execute_reply": "2021-11-11T23:46:16.399800Z",
     "shell.execute_reply.started": "2021-11-11T20:35:42.635936Z"
    },
    "papermill": {
     "duration": 0.511881,
     "end_time": "2021-11-11T23:46:16.400721",
     "exception": false,
     "start_time": "2021-11-11T23:46:15.888840",
     "status": "completed"
    },
    "tags": []
   },
   "outputs": [
    {
     "name": "stdout",
     "output_type": "stream",
     "text": [
      "+------+\n",
      "|exited|\n",
      "+------+\n",
      "|     1|\n",
      "|     0|\n",
      "+------+\n",
      "\n"
     ]
    }
   ],
   "source": [
    "spark_df.select(\"exited\").distinct().show() #unique classes"
   ]
  },
  {
   "cell_type": "code",
   "execution_count": 13,
   "id": "0357adbe",
   "metadata": {
    "execution": {
     "iopub.execute_input": "2021-11-11T23:46:17.033297Z",
     "iopub.status.busy": "2021-11-11T23:46:17.032324Z",
     "iopub.status.idle": "2021-11-11T23:46:17.284728Z",
     "shell.execute_reply": "2021-11-11T23:46:17.285738Z",
     "shell.execute_reply.started": "2021-11-11T20:35:43.019127Z"
    },
    "papermill": {
     "duration": 0.551443,
     "end_time": "2021-11-11T23:46:17.286018",
     "exception": false,
     "start_time": "2021-11-11T23:46:16.734575",
     "status": "completed"
    },
    "tags": []
   },
   "outputs": [
    {
     "name": "stdout",
     "output_type": "stream",
     "text": [
      "+------+-----+\n",
      "|exited|count|\n",
      "+------+-----+\n",
      "|     1| 2037|\n",
      "|     0| 7963|\n",
      "+------+-----+\n",
      "\n"
     ]
    }
   ],
   "source": [
    "spark_df.groupby(\"exited\").count().show() #groupby transactions"
   ]
  },
  {
   "cell_type": "code",
   "execution_count": 14,
   "id": "2bd13182",
   "metadata": {
    "execution": {
     "iopub.execute_input": "2021-11-11T23:46:17.737188Z",
     "iopub.status.busy": "2021-11-11T23:46:17.735434Z",
     "iopub.status.idle": "2021-11-11T23:46:18.228584Z",
     "shell.execute_reply": "2021-11-11T23:46:18.227755Z",
     "shell.execute_reply.started": "2021-11-11T20:35:43.372216Z"
    },
    "papermill": {
     "duration": 0.705394,
     "end_time": "2021-11-11T23:46:18.228777",
     "exception": false,
     "start_time": "2021-11-11T23:46:17.523383",
     "status": "completed"
    },
    "tags": []
   },
   "outputs": [
    {
     "name": "stdout",
     "output_type": "stream",
     "text": [
      "+------+-----------------+\n",
      "|exited|      avg(tenure)|\n",
      "+------+-----------------+\n",
      "|     1|4.932744231713304|\n",
      "|     0|5.033278914981791|\n",
      "+------+-----------------+\n",
      "\n"
     ]
    }
   ],
   "source": [
    "spark_df.groupby(\"exited\").agg({\"tenure\": \"mean\"}).show() #time spent"
   ]
  },
  {
   "cell_type": "code",
   "execution_count": 15,
   "id": "adf51f96",
   "metadata": {
    "execution": {
     "iopub.execute_input": "2021-11-11T23:46:18.680256Z",
     "iopub.status.busy": "2021-11-11T23:46:18.679289Z",
     "iopub.status.idle": "2021-11-11T23:46:19.426659Z",
     "shell.execute_reply": "2021-11-11T23:46:19.427209Z",
     "shell.execute_reply.started": "2021-11-11T20:35:43.863242Z"
    },
    "papermill": {
     "duration": 0.962947,
     "end_time": "2021-11-11T23:46:19.427400",
     "exception": false,
     "start_time": "2021-11-11T23:46:18.464453",
     "status": "completed"
    },
    "tags": []
   },
   "outputs": [
    {
     "name": "stdout",
     "output_type": "stream",
     "text": [
      "+-------+------------------+-----------------+-----------------+------------------+------------------+-----------------+------------------+-------------------+-------------------+-----------------+-------------------+\n",
      "|summary|         RowNumber|       CustomerId|      CreditScore|               Age|            Tenure|          Balance|     NumOfProducts|          HasCrCard|     IsActiveMember|  EstimatedSalary|             Exited|\n",
      "+-------+------------------+-----------------+-----------------+------------------+------------------+-----------------+------------------+-------------------+-------------------+-----------------+-------------------+\n",
      "|  count|             10000|            10000|            10000|             10000|             10000|            10000|             10000|              10000|              10000|            10000|              10000|\n",
      "|   mean|            5000.5|  1.56909405694E7|         650.5288|           38.9218|            5.0128|76485.88928799961|            1.5302|             0.7055|             0.5151|100090.2398809998|             0.2037|\n",
      "| stddev|2886.8956799071675|71936.18612274907|96.65329873613035|10.487806451704587|2.8921743770496837|62397.40520238599|0.5816543579989917|0.45584046447513327|0.49979692845891815|57510.49281769821|0.40276858399486065|\n",
      "|    min|                 1|         15565701|              350|                18|                 0|              0.0|                 1|                  0|                  0|            11.58|                  0|\n",
      "|    max|             10000|         15815690|              850|                92|                10|        250898.09|                 4|                  1|                  1|        199992.48|                  1|\n",
      "+-------+------------------+-----------------+-----------------+------------------+------------------+-----------------+------------------+-------------------+-------------------+-----------------+-------------------+\n",
      "\n"
     ]
    }
   ],
   "source": [
    "#Selection and summary statistics of all numeric variables\n",
    "num_cols = [col[0] for col in spark_df.dtypes if col[1] != 'string']\n",
    "spark_df.select(num_cols).describe().show() "
   ]
  },
  {
   "cell_type": "code",
   "execution_count": 16,
   "id": "78c4bec9",
   "metadata": {
    "execution": {
     "iopub.execute_input": "2021-11-11T23:46:19.863970Z",
     "iopub.status.busy": "2021-11-11T23:46:19.862886Z",
     "iopub.status.idle": "2021-11-11T23:46:20.479003Z",
     "shell.execute_reply": "2021-11-11T23:46:20.480421Z",
     "shell.execute_reply.started": "2021-11-11T20:35:44.964872Z"
    },
    "papermill": {
     "duration": 0.838162,
     "end_time": "2021-11-11T23:46:20.480885",
     "exception": false,
     "start_time": "2021-11-11T23:46:19.642723",
     "status": "completed"
    },
    "tags": []
   },
   "outputs": [
    {
     "name": "stdout",
     "output_type": "stream",
     "text": [
      "+-------+-------+---------+------+\n",
      "|summary|Surname|Geography|Gender|\n",
      "+-------+-------+---------+------+\n",
      "|  count|  10000|    10000| 10000|\n",
      "|   mean|   null|     null|  null|\n",
      "| stddev|   null|     null|  null|\n",
      "|    min|  Abazu|   France|Female|\n",
      "|    max| Zuyeva|    Spain|  Male|\n",
      "+-------+-------+---------+------+\n",
      "\n"
     ]
    }
   ],
   "source": [
    "#Selection and summary of all categorical variables\n",
    "cat_cols = [col[0] for col in spark_df.dtypes if col[1] == 'string']\n",
    "spark_df.select(cat_cols).describe().show() "
   ]
  },
  {
   "cell_type": "code",
   "execution_count": 17,
   "id": "19dcf420",
   "metadata": {
    "execution": {
     "iopub.execute_input": "2021-11-11T23:46:20.982720Z",
     "iopub.status.busy": "2021-11-11T23:46:20.981805Z",
     "iopub.status.idle": "2021-11-11T23:46:23.692440Z",
     "shell.execute_reply": "2021-11-11T23:46:23.691542Z",
     "shell.execute_reply.started": "2021-11-11T20:35:45.738104Z"
    },
    "papermill": {
     "duration": 2.929035,
     "end_time": "2021-11-11T23:46:23.692652",
     "exception": false,
     "start_time": "2021-11-11T23:46:20.763617",
     "status": "completed"
    },
    "tags": []
   },
   "outputs": [
    {
     "name": "stdout",
     "output_type": "stream",
     "text": [
      "+------+-----------------+\n",
      "|exited|   avg(rownumber)|\n",
      "+------+-----------------+\n",
      "|     1|4905.917525773196|\n",
      "|     0|5024.694964209469|\n",
      "+------+-----------------+\n",
      "\n",
      "+------+--------------------+\n",
      "|exited|     avg(customerid)|\n",
      "+------+--------------------+\n",
      "|     1|1.5690051964653904E7|\n",
      "|     0|1.5691167881702876E7|\n",
      "+------+--------------------+\n",
      "\n",
      "+------+-----------------+\n",
      "|exited| avg(creditscore)|\n",
      "+------+-----------------+\n",
      "|     1|645.3514972999509|\n",
      "|     0|651.8531960316463|\n",
      "+------+-----------------+\n",
      "\n",
      "+------+-----------------+\n",
      "|exited|         avg(age)|\n",
      "+------+-----------------+\n",
      "|     1| 44.8379970544919|\n",
      "|     0|37.40838879819164|\n",
      "+------+-----------------+\n",
      "\n",
      "+------+-----------------+\n",
      "|exited|      avg(tenure)|\n",
      "+------+-----------------+\n",
      "|     1|4.932744231713304|\n",
      "|     0|5.033278914981791|\n",
      "+------+-----------------+\n",
      "\n",
      "+------+-----------------+\n",
      "|exited|     avg(balance)|\n",
      "+------+-----------------+\n",
      "|     1|91108.53933726063|\n",
      "|     0|72745.29677885193|\n",
      "+------+-----------------+\n",
      "\n",
      "+------+------------------+\n",
      "|exited|avg(numofproducts)|\n",
      "+------+------------------+\n",
      "|     1|1.4752086401570939|\n",
      "|     0|1.5442672359663443|\n",
      "+------+------------------+\n",
      "\n",
      "+------+------------------+\n",
      "|exited|    avg(hascrcard)|\n",
      "+------+------------------+\n",
      "|     1|0.6990672557682867|\n",
      "|     0|0.7071455481602411|\n",
      "+------+------------------+\n",
      "\n",
      "+------+-------------------+\n",
      "|exited|avg(isactivemember)|\n",
      "+------+-------------------+\n",
      "|     1|0.36082474226804123|\n",
      "|     0| 0.5545648624890117|\n",
      "+------+-------------------+\n",
      "\n",
      "+------+--------------------+\n",
      "|exited|avg(estimatedsalary)|\n",
      "+------+--------------------+\n",
      "|     1|   101465.6775306824|\n",
      "|     0|   99738.39177194514|\n",
      "+------+--------------------+\n",
      "\n",
      "+------+-----------+\n",
      "|exited|avg(exited)|\n",
      "+------+-----------+\n",
      "|     1|        1.0|\n",
      "|     0|        0.0|\n",
      "+------+-----------+\n",
      "\n"
     ]
    }
   ],
   "source": [
    "# mean of numerical variables relative to the target variable\n",
    "for col in [col.lower() for col in num_cols]:\n",
    "    spark_df.groupby(\"exited\").agg({col: \"mean\"}).show()"
   ]
  },
  {
   "cell_type": "markdown",
   "id": "0b1dd06d",
   "metadata": {
    "papermill": {
     "duration": 0.211393,
     "end_time": "2021-11-11T23:46:24.181607",
     "exception": false,
     "start_time": "2021-11-11T23:46:23.970214",
     "status": "completed"
    },
    "tags": []
   },
   "source": [
    "<h1><center><span style=\"font-family:Georgia;color:#E8DCCC;font-weight:bold;background:#97A37B\"> ✍🏼Data Preprocessing & Feature Engineering\n"
   ]
  },
  {
   "cell_type": "code",
   "execution_count": 18,
   "id": "9ae703da",
   "metadata": {
    "execution": {
     "iopub.execute_input": "2021-11-11T23:46:24.612841Z",
     "iopub.status.busy": "2021-11-11T23:46:24.611609Z",
     "iopub.status.idle": "2021-11-11T23:46:25.171122Z",
     "shell.execute_reply": "2021-11-11T23:46:25.172008Z",
     "shell.execute_reply.started": "2021-11-11T20:35:49.418394Z"
    },
    "papermill": {
     "duration": 0.777575,
     "end_time": "2021-11-11T23:46:25.172286",
     "exception": false,
     "start_time": "2021-11-11T23:46:24.394711",
     "status": "completed"
    },
    "tags": []
   },
   "outputs": [
    {
     "data": {
      "text/html": [
       "<div>\n",
       "<style scoped>\n",
       "    .dataframe tbody tr th:only-of-type {\n",
       "        vertical-align: middle;\n",
       "    }\n",
       "\n",
       "    .dataframe tbody tr th {\n",
       "        vertical-align: top;\n",
       "    }\n",
       "\n",
       "    .dataframe thead th {\n",
       "        text-align: right;\n",
       "    }\n",
       "</style>\n",
       "<table border=\"1\" class=\"dataframe\">\n",
       "  <thead>\n",
       "    <tr style=\"text-align: right;\">\n",
       "      <th></th>\n",
       "      <th>0</th>\n",
       "    </tr>\n",
       "  </thead>\n",
       "  <tbody>\n",
       "    <tr>\n",
       "      <th>RowNumber</th>\n",
       "      <td>0</td>\n",
       "    </tr>\n",
       "    <tr>\n",
       "      <th>CustomerId</th>\n",
       "      <td>0</td>\n",
       "    </tr>\n",
       "    <tr>\n",
       "      <th>Surname</th>\n",
       "      <td>0</td>\n",
       "    </tr>\n",
       "    <tr>\n",
       "      <th>CreditScore</th>\n",
       "      <td>0</td>\n",
       "    </tr>\n",
       "    <tr>\n",
       "      <th>Geography</th>\n",
       "      <td>0</td>\n",
       "    </tr>\n",
       "    <tr>\n",
       "      <th>Gender</th>\n",
       "      <td>0</td>\n",
       "    </tr>\n",
       "    <tr>\n",
       "      <th>Age</th>\n",
       "      <td>0</td>\n",
       "    </tr>\n",
       "    <tr>\n",
       "      <th>Tenure</th>\n",
       "      <td>0</td>\n",
       "    </tr>\n",
       "    <tr>\n",
       "      <th>Balance</th>\n",
       "      <td>0</td>\n",
       "    </tr>\n",
       "    <tr>\n",
       "      <th>NumOfProducts</th>\n",
       "      <td>0</td>\n",
       "    </tr>\n",
       "    <tr>\n",
       "      <th>HasCrCard</th>\n",
       "      <td>0</td>\n",
       "    </tr>\n",
       "    <tr>\n",
       "      <th>IsActiveMember</th>\n",
       "      <td>0</td>\n",
       "    </tr>\n",
       "    <tr>\n",
       "      <th>EstimatedSalary</th>\n",
       "      <td>0</td>\n",
       "    </tr>\n",
       "    <tr>\n",
       "      <th>Exited</th>\n",
       "      <td>0</td>\n",
       "    </tr>\n",
       "  </tbody>\n",
       "</table>\n",
       "</div>"
      ],
      "text/plain": [
       "                 0\n",
       "RowNumber        0\n",
       "CustomerId       0\n",
       "Surname          0\n",
       "CreditScore      0\n",
       "Geography        0\n",
       "Gender           0\n",
       "Age              0\n",
       "Tenure           0\n",
       "Balance          0\n",
       "NumOfProducts    0\n",
       "HasCrCard        0\n",
       "IsActiveMember   0\n",
       "EstimatedSalary  0\n",
       "Exited           0"
      ]
     },
     "execution_count": 18,
     "metadata": {},
     "output_type": "execute_result"
    }
   ],
   "source": [
    "#Missing Values\n",
    "from pyspark.sql.functions import when, count, col\n",
    "spark_df.select([count(when(col(c).isNull(), c)).alias(c) for c in spark_df.columns]).toPandas().T"
   ]
  },
  {
   "cell_type": "code",
   "execution_count": 19,
   "id": "63a145ec",
   "metadata": {
    "execution": {
     "iopub.execute_input": "2021-11-11T23:46:25.654319Z",
     "iopub.status.busy": "2021-11-11T23:46:25.653668Z",
     "iopub.status.idle": "2021-11-11T23:46:25.789955Z",
     "shell.execute_reply": "2021-11-11T23:46:25.789020Z",
     "shell.execute_reply.started": "2021-11-11T20:35:50.151489Z"
    },
    "papermill": {
     "duration": 0.353747,
     "end_time": "2021-11-11T23:46:25.790149",
     "exception": false,
     "start_time": "2021-11-11T23:46:25.436402",
     "status": "completed"
    },
    "tags": []
   },
   "outputs": [
    {
     "name": "stdout",
     "output_type": "stream",
     "text": [
      "+---------+----------+--------+-----------+---------+------+---+------+---------+-------------+---------+--------------+---------------+------+\n",
      "|rownumber|customerid| surname|creditscore|geography|gender|age|tenure|  balance|numofproducts|hascrcard|isactivemember|estimatedsalary|exited|\n",
      "+---------+----------+--------+-----------+---------+------+---+------+---------+-------------+---------+--------------+---------------+------+\n",
      "|        1|  15634602|Hargrave|        619|   France|Female| 42|     2|      0.0|            1|        1|             1|      101348.88|     1|\n",
      "|        2|  15647311|    Hill|        608|    Spain|Female| 41|     1| 83807.86|            1|        0|             1|      112542.58|     0|\n",
      "|        3|  15619304|    Onio|        502|   France|Female| 42|     8| 159660.8|            3|        1|             0|      113931.57|     1|\n",
      "|        4|  15701354|    Boni|        699|   France|Female| 39|     1|      0.0|            2|        0|             0|       93826.63|     0|\n",
      "|        5|  15737888|Mitchell|        850|    Spain|Female| 43|     2|125510.82|            1|        1|             1|        79084.1|     0|\n",
      "+---------+----------+--------+-----------+---------+------+---+------+---------+-------------+---------+--------------+---------------+------+\n",
      "only showing top 5 rows\n",
      "\n"
     ]
    }
   ],
   "source": [
    "spark_df = spark_df.toDF(*[c.lower() for c in spark_df.columns])\n",
    "spark_df.show(5)"
   ]
  },
  {
   "cell_type": "code",
   "execution_count": 20,
   "id": "968044c0",
   "metadata": {
    "execution": {
     "iopub.execute_input": "2021-11-11T23:46:26.267571Z",
     "iopub.status.busy": "2021-11-11T23:46:26.266082Z",
     "iopub.status.idle": "2021-11-11T23:46:26.455629Z",
     "shell.execute_reply": "2021-11-11T23:46:26.456519Z",
     "shell.execute_reply.started": "2021-11-11T20:35:50.331584Z"
    },
    "papermill": {
     "duration": 0.411784,
     "end_time": "2021-11-11T23:46:26.456780",
     "exception": false,
     "start_time": "2021-11-11T23:46:26.044996",
     "status": "completed"
    },
    "tags": []
   },
   "outputs": [
    {
     "name": "stdout",
     "output_type": "stream",
     "text": [
      "+-----------+---------+------+---+------+---------+-------------+---------+--------------+---------------+------+--------------------+------------------+------------------+\n",
      "|creditscore|geography|gender|age|tenure|  balance|numofproducts|hascrcard|isactivemember|estimatedsalary|exited|  creditscore_salary|creditscore_tenure|    balance_salary|\n",
      "+-----------+---------+------+---+------+---------+-------------+---------+--------------+---------------+------+--------------------+------------------+------------------+\n",
      "|        619|   France|Female| 42|     2|      0.0|            1|        1|             1|      101348.88|     1|0.006107615594765329|              1238|               0.0|\n",
      "|        608|    Spain|Female| 41|     1| 83807.86|            1|        0|             1|      112542.58|     0|0.005402399696186101|               608|0.7446769036217226|\n",
      "|        502|   France|Female| 42|     8| 159660.8|            3|        1|             0|      113931.57|     1|0.004406153623618106|              4016|1.4013745268322026|\n",
      "|        699|   France|Female| 39|     1|      0.0|            2|        0|             0|       93826.63|     0|0.007449910542454738|               699|               0.0|\n",
      "|        850|    Spain|Female| 43|     2|125510.82|            1|        1|             1|        79084.1|     0|0.010748051757559357|              1700|1.5870550464631954|\n",
      "+-----------+---------+------+---+------+---------+-------------+---------+--------------+---------------+------+--------------------+------------------+------------------+\n",
      "only showing top 5 rows\n",
      "\n"
     ]
    }
   ],
   "source": [
    "# Feature Interaction\n",
    "spark_df = spark_df.drop('rownumber', \"customerid\", \"surname\")\n",
    "spark_df = spark_df.withColumn('creditscore_salary', spark_df.creditscore / spark_df.estimatedsalary)\n",
    "spark_df = spark_df.withColumn('creditscore_tenure', spark_df.creditscore * spark_df.tenure)\n",
    "spark_df = spark_df.withColumn('balance_salary', spark_df.balance / spark_df.estimatedsalary)\n",
    "spark_df.show(5)"
   ]
  },
  {
   "cell_type": "code",
   "execution_count": 21,
   "id": "cd38f431",
   "metadata": {
    "execution": {
     "iopub.execute_input": "2021-11-11T23:46:26.906865Z",
     "iopub.status.busy": "2021-11-11T23:46:26.905798Z",
     "iopub.status.idle": "2021-11-11T23:46:27.669260Z",
     "shell.execute_reply": "2021-11-11T23:46:27.668247Z",
     "shell.execute_reply.started": "2021-11-11T20:35:50.695289Z"
    },
    "papermill": {
     "duration": 0.983552,
     "end_time": "2021-11-11T23:46:27.669480",
     "exception": false,
     "start_time": "2021-11-11T23:46:26.685928",
     "status": "completed"
    },
    "tags": []
   },
   "outputs": [
    {
     "name": "stdout",
     "output_type": "stream",
     "text": [
      "+-------+-----+\n",
      "|summary|  age|\n",
      "+-------+-----+\n",
      "|  count|10000|\n",
      "|    min|   18|\n",
      "|    25%|   32|\n",
      "|    50%|   37|\n",
      "|    75%|   44|\n",
      "|    max|   92|\n",
      "+-------+-----+\n",
      "\n"
     ]
    }
   ],
   "source": [
    "#Bucketization / Bining / Num to Cat\n",
    "spark_df.select('age').describe().toPandas().transpose()\n",
    "spark_df.select(\"age\").summary(\"count\", \"min\", \"25%\", \"50%\",\"75%\", \"max\").show()\n",
    "bucketizer = Bucketizer(splits=[0, 35, 55, 75, 95], inputCol=\"age\", outputCol=\"age_cat\")\n",
    "spark_df = bucketizer.setHandleInvalid(\"keep\").transform(spark_df)\n",
    "spark_df = spark_df.withColumn('age_cat', spark_df.age_cat + 1)"
   ]
  },
  {
   "cell_type": "code",
   "execution_count": 22,
   "id": "52cf9761",
   "metadata": {
    "execution": {
     "iopub.execute_input": "2021-11-11T23:46:28.134716Z",
     "iopub.status.busy": "2021-11-11T23:46:28.133713Z",
     "iopub.status.idle": "2021-11-11T23:46:28.148175Z",
     "shell.execute_reply": "2021-11-11T23:46:28.147525Z",
     "shell.execute_reply.started": "2021-11-11T20:35:51.696709Z"
    },
    "papermill": {
     "duration": 0.231261,
     "end_time": "2021-11-11T23:46:28.148319",
     "exception": false,
     "start_time": "2021-11-11T23:46:27.917058",
     "status": "completed"
    },
    "tags": []
   },
   "outputs": [],
   "source": [
    "#converting float values to integer\n",
    "spark_df = spark_df.withColumn(\"age_cat\", spark_df[\"age_cat\"].cast(\"integer\"))"
   ]
  },
  {
   "cell_type": "code",
   "execution_count": 23,
   "id": "b428f28d",
   "metadata": {
    "execution": {
     "iopub.execute_input": "2021-11-11T23:46:28.576582Z",
     "iopub.status.busy": "2021-11-11T23:46:28.575919Z",
     "iopub.status.idle": "2021-11-11T23:46:28.577821Z",
     "shell.execute_reply": "2021-11-11T23:46:28.578342Z",
     "shell.execute_reply.started": "2021-11-11T20:35:51.725823Z"
    },
    "papermill": {
     "duration": 0.218972,
     "end_time": "2021-11-11T23:46:28.578518",
     "exception": false,
     "start_time": "2021-11-11T23:46:28.359546",
     "status": "completed"
    },
    "tags": []
   },
   "outputs": [],
   "source": [
    "#Label Encoding\n",
    "#indexer = StringIndexer(inputCol=\"segment\", outputCol=\"segment_label\")\n",
    "#indexer.fit(spark_df).transform(spark_df).show(5)\n",
    "#temp_sdf = indexer.fit(spark_df).transform(spark_df)\n",
    "#spark_df = temp_sdf.withColumn(\"segment_label\", temp_sdf[\"segment_label\"].cast(\"integer\"))\n",
    "#spark_df = spark_df.drop('segment')"
   ]
  },
  {
   "cell_type": "code",
   "execution_count": 24,
   "id": "fbdf6214",
   "metadata": {
    "execution": {
     "iopub.execute_input": "2021-11-11T23:46:29.007679Z",
     "iopub.status.busy": "2021-11-11T23:46:29.004143Z",
     "iopub.status.idle": "2021-11-11T23:46:30.295299Z",
     "shell.execute_reply": "2021-11-11T23:46:30.294507Z",
     "shell.execute_reply.started": "2021-11-11T20:35:51.740428Z"
    },
    "papermill": {
     "duration": 1.505133,
     "end_time": "2021-11-11T23:46:30.295516",
     "exception": false,
     "start_time": "2021-11-11T23:46:28.790383",
     "status": "completed"
    },
    "tags": []
   },
   "outputs": [
    {
     "name": "stdout",
     "output_type": "stream",
     "text": [
      "+-----------+---------+------+---+------+---------+-------------+---------+--------------+---------------+------+--------------------+------------------+------------------+-------+------------+\n",
      "|creditscore|geography|gender|age|tenure|  balance|numofproducts|hascrcard|isactivemember|estimatedsalary|exited|  creditscore_salary|creditscore_tenure|    balance_salary|age_cat|gender_label|\n",
      "+-----------+---------+------+---+------+---------+-------------+---------+--------------+---------------+------+--------------------+------------------+------------------+-------+------------+\n",
      "|        619|   France|Female| 42|     2|      0.0|            1|        1|             1|      101348.88|     1|0.006107615594765329|              1238|               0.0|      2|         1.0|\n",
      "|        608|    Spain|Female| 41|     1| 83807.86|            1|        0|             1|      112542.58|     0|0.005402399696186101|               608|0.7446769036217226|      2|         1.0|\n",
      "|        502|   France|Female| 42|     8| 159660.8|            3|        1|             0|      113931.57|     1|0.004406153623618106|              4016|1.4013745268322026|      2|         1.0|\n",
      "|        699|   France|Female| 39|     1|      0.0|            2|        0|             0|       93826.63|     0|0.007449910542454738|               699|               0.0|      2|         1.0|\n",
      "|        850|    Spain|Female| 43|     2|125510.82|            1|        1|             1|        79084.1|     0|0.010748051757559357|              1700|1.5870550464631954|      2|         1.0|\n",
      "+-----------+---------+------+---+------+---------+-------------+---------+--------------+---------------+------+--------------------+------------------+------------------+-------+------------+\n",
      "only showing top 5 rows\n",
      "\n"
     ]
    }
   ],
   "source": [
    "indexer = StringIndexer(inputCol=\"gender\", outputCol=\"gender_label\")\n",
    "indexer.fit(spark_df).transform(spark_df).show(5)\n",
    "temp_sdf = indexer.fit(spark_df).transform(spark_df)\n",
    "spark_df = temp_sdf.withColumn(\"gender_label\", temp_sdf[\"gender_label\"].cast(\"integer\"))\n",
    "spark_df = spark_df.drop('gender')"
   ]
  },
  {
   "cell_type": "code",
   "execution_count": 25,
   "id": "272ddc36",
   "metadata": {
    "execution": {
     "iopub.execute_input": "2021-11-11T23:46:30.803551Z",
     "iopub.status.busy": "2021-11-11T23:46:30.802402Z",
     "iopub.status.idle": "2021-11-11T23:46:30.925768Z",
     "shell.execute_reply": "2021-11-11T23:46:30.923903Z",
     "shell.execute_reply.started": "2021-11-11T20:35:53.732977Z"
    },
    "papermill": {
     "duration": 0.348086,
     "end_time": "2021-11-11T23:46:30.926181",
     "exception": false,
     "start_time": "2021-11-11T23:46:30.578095",
     "status": "completed"
    },
    "tags": []
   },
   "outputs": [
    {
     "name": "stdout",
     "output_type": "stream",
     "text": [
      "+-----------+---------+---+------+---------+-------------+---------+--------------+---------------+------+--------------------+------------------+------------------+-------+------------+\n",
      "|creditscore|geography|age|tenure|  balance|numofproducts|hascrcard|isactivemember|estimatedsalary|exited|  creditscore_salary|creditscore_tenure|    balance_salary|age_cat|gender_label|\n",
      "+-----------+---------+---+------+---------+-------------+---------+--------------+---------------+------+--------------------+------------------+------------------+-------+------------+\n",
      "|        619|   France| 42|     2|      0.0|            1|        1|             1|      101348.88|     1|0.006107615594765329|              1238|               0.0|      2|           1|\n",
      "|        608|    Spain| 41|     1| 83807.86|            1|        0|             1|      112542.58|     0|0.005402399696186101|               608|0.7446769036217226|      2|           1|\n",
      "|        502|   France| 42|     8| 159660.8|            3|        1|             0|      113931.57|     1|0.004406153623618106|              4016|1.4013745268322026|      2|           1|\n",
      "|        699|   France| 39|     1|      0.0|            2|        0|             0|       93826.63|     0|0.007449910542454738|               699|               0.0|      2|           1|\n",
      "|        850|    Spain| 43|     2|125510.82|            1|        1|             1|        79084.1|     0|0.010748051757559357|              1700|1.5870550464631954|      2|           1|\n",
      "+-----------+---------+---+------+---------+-------------+---------+--------------+---------------+------+--------------------+------------------+------------------+-------+------------+\n",
      "only showing top 5 rows\n",
      "\n"
     ]
    }
   ],
   "source": [
    "spark_df.show(5)"
   ]
  },
  {
   "cell_type": "code",
   "execution_count": 26,
   "id": "8049b092",
   "metadata": {
    "execution": {
     "iopub.execute_input": "2021-11-11T23:46:31.372729Z",
     "iopub.status.busy": "2021-11-11T23:46:31.371640Z",
     "iopub.status.idle": "2021-11-11T23:46:32.178551Z",
     "shell.execute_reply": "2021-11-11T23:46:32.177475Z",
     "shell.execute_reply.started": "2021-11-11T20:35:53.898652Z"
    },
    "papermill": {
     "duration": 1.025219,
     "end_time": "2021-11-11T23:46:32.178761",
     "exception": false,
     "start_time": "2021-11-11T23:46:31.153542",
     "status": "completed"
    },
    "tags": []
   },
   "outputs": [
    {
     "name": "stdout",
     "output_type": "stream",
     "text": [
      "+-----------+---------+---+------+---------+-------------+---------+--------------+---------------+------+--------------------+------------------+------------------+-------+------------+---------------+\n",
      "|creditscore|geography|age|tenure|  balance|numofproducts|hascrcard|isactivemember|estimatedsalary|exited|  creditscore_salary|creditscore_tenure|    balance_salary|age_cat|gender_label|geography_label|\n",
      "+-----------+---------+---+------+---------+-------------+---------+--------------+---------------+------+--------------------+------------------+------------------+-------+------------+---------------+\n",
      "|        619|   France| 42|     2|      0.0|            1|        1|             1|      101348.88|     1|0.006107615594765329|              1238|               0.0|      2|           1|            0.0|\n",
      "|        608|    Spain| 41|     1| 83807.86|            1|        0|             1|      112542.58|     0|0.005402399696186101|               608|0.7446769036217226|      2|           1|            2.0|\n",
      "|        502|   France| 42|     8| 159660.8|            3|        1|             0|      113931.57|     1|0.004406153623618106|              4016|1.4013745268322026|      2|           1|            0.0|\n",
      "|        699|   France| 39|     1|      0.0|            2|        0|             0|       93826.63|     0|0.007449910542454738|               699|               0.0|      2|           1|            0.0|\n",
      "|        850|    Spain| 43|     2|125510.82|            1|        1|             1|        79084.1|     0|0.010748051757559357|              1700|1.5870550464631954|      2|           1|            2.0|\n",
      "+-----------+---------+---+------+---------+-------------+---------+--------------+---------------+------+--------------------+------------------+------------------+-------+------------+---------------+\n",
      "only showing top 5 rows\n",
      "\n"
     ]
    }
   ],
   "source": [
    "indexer = StringIndexer(inputCol=\"geography\", outputCol=\"geography_label\")\n",
    "indexer.fit(spark_df).transform(spark_df).show(5)\n",
    "temp_sdf = indexer.fit(spark_df).transform(spark_df)\n",
    "spark_df = temp_sdf.withColumn(\"geography_label\", temp_sdf[\"geography_label\"].cast(\"integer\"))\n",
    "spark_df = spark_df.drop('geography')"
   ]
  },
  {
   "cell_type": "code",
   "execution_count": 27,
   "id": "74adcc2a",
   "metadata": {
    "execution": {
     "iopub.execute_input": "2021-11-11T23:46:32.646558Z",
     "iopub.status.busy": "2021-11-11T23:46:32.645835Z",
     "iopub.status.idle": "2021-11-11T23:46:33.012540Z",
     "shell.execute_reply": "2021-11-11T23:46:33.011892Z",
     "shell.execute_reply.started": "2021-11-11T20:35:55.396917Z"
    },
    "papermill": {
     "duration": 0.591859,
     "end_time": "2021-11-11T23:46:33.012705",
     "exception": false,
     "start_time": "2021-11-11T23:46:32.420846",
     "status": "completed"
    },
    "tags": []
   },
   "outputs": [],
   "source": [
    "#One Hot Encoding\n",
    "encoder = OneHotEncoder(inputCols=[\"age_cat\", \"geography_label\"], outputCols=[\"age_cat_ohe\", \"geography_label_ohe\"])\n",
    "spark_df = encoder.fit(spark_df).transform(spark_df)"
   ]
  },
  {
   "cell_type": "code",
   "execution_count": 28,
   "id": "09a2d65b",
   "metadata": {
    "execution": {
     "iopub.execute_input": "2021-11-11T23:46:33.472379Z",
     "iopub.status.busy": "2021-11-11T23:46:33.471339Z",
     "iopub.status.idle": "2021-11-11T23:46:34.098563Z",
     "shell.execute_reply": "2021-11-11T23:46:34.097194Z",
     "shell.execute_reply.started": "2021-11-11T20:35:55.82083Z"
    },
    "papermill": {
     "duration": 0.871118,
     "end_time": "2021-11-11T23:46:34.098730",
     "exception": false,
     "start_time": "2021-11-11T23:46:33.227612",
     "status": "completed"
    },
    "tags": []
   },
   "outputs": [
    {
     "name": "stdout",
     "output_type": "stream",
     "text": [
      "+-----------+---+------+---------+-------------+---------+--------------+---------------+------+--------------------+------------------+------------------+-------+------------+---------------+-------------+-------------------+-----+\n",
      "|creditscore|age|tenure|  balance|numofproducts|hascrcard|isactivemember|estimatedsalary|exited|  creditscore_salary|creditscore_tenure|    balance_salary|age_cat|gender_label|geography_label|  age_cat_ohe|geography_label_ohe|label|\n",
      "+-----------+---+------+---------+-------------+---------+--------------+---------------+------+--------------------+------------------+------------------+-------+------------+---------------+-------------+-------------------+-----+\n",
      "|        619| 42|     2|      0.0|            1|        1|             1|      101348.88|     1|0.006107615594765329|              1238|               0.0|      2|           1|              0|(4,[2],[1.0])|      (2,[0],[1.0])|  1.0|\n",
      "|        608| 41|     1| 83807.86|            1|        0|             1|      112542.58|     0|0.005402399696186101|               608|0.7446769036217226|      2|           1|              2|(4,[2],[1.0])|          (2,[],[])|  0.0|\n",
      "|        502| 42|     8| 159660.8|            3|        1|             0|      113931.57|     1|0.004406153623618106|              4016|1.4013745268322026|      2|           1|              0|(4,[2],[1.0])|      (2,[0],[1.0])|  1.0|\n",
      "|        699| 39|     1|      0.0|            2|        0|             0|       93826.63|     0|0.007449910542454738|               699|               0.0|      2|           1|              0|(4,[2],[1.0])|      (2,[0],[1.0])|  0.0|\n",
      "|        850| 43|     2|125510.82|            1|        1|             1|        79084.1|     0|0.010748051757559357|              1700|1.5870550464631954|      2|           1|              2|(4,[2],[1.0])|          (2,[],[])|  0.0|\n",
      "|        645| 44|     8|113755.78|            2|        1|             0|      149756.71|     1|0.004306985643581513|              5160|0.7596038935417319|      2|           0|              2|(4,[2],[1.0])|          (2,[],[])|  1.0|\n",
      "|        822| 50|     7|      0.0|            2|        1|             1|        10062.8|     0| 0.08168700560480185|              5754|               0.0|      2|           0|              0|(4,[2],[1.0])|      (2,[0],[1.0])|  0.0|\n",
      "|        376| 29|     4|115046.74|            4|        1|             0|      119346.88|     1|0.003150480347705...|              1504|0.9639693974404694|      1|           1|              1|(4,[1],[1.0])|      (2,[1],[1.0])|  1.0|\n",
      "|        501| 44|     4|142051.07|            2|        0|             1|        74940.5|     0|0.006685303674248237|              2004|1.8955180443151567|      2|           0|              0|(4,[2],[1.0])|      (2,[0],[1.0])|  0.0|\n",
      "|        684| 27|     2|134603.88|            1|        1|             1|       71725.73|     0|0.009536326782592523|              1368| 1.876647055387237|      1|           0|              0|(4,[1],[1.0])|      (2,[0],[1.0])|  0.0|\n",
      "|        528| 31|     6|102016.72|            2|        0|             0|       80181.12|     0|0.006585091353176409|              3168|1.2723284483928388|      1|           0|              0|(4,[1],[1.0])|      (2,[0],[1.0])|  0.0|\n",
      "|        497| 24|     3|      0.0|            2|        1|             0|       76390.01|     0|0.006506086332492954|              1491|               0.0|      1|           0|              2|(4,[1],[1.0])|          (2,[],[])|  0.0|\n",
      "|        476| 34|    10|      0.0|            2|        1|             0|       26260.98|     0|0.018125751590382384|              4760|               0.0|      1|           1|              0|(4,[1],[1.0])|      (2,[0],[1.0])|  0.0|\n",
      "|        549| 25|     5|      0.0|            2|        0|             0|      190857.79|     0|0.002876487252629...|              2745|               0.0|      1|           1|              0|(4,[1],[1.0])|      (2,[0],[1.0])|  0.0|\n",
      "|        635| 35|     7|      0.0|            2|        1|             1|       65951.65|     0|0.009628265555145323|              4445|               0.0|      2|           1|              2|(4,[2],[1.0])|          (2,[],[])|  0.0|\n",
      "|        616| 45|     3|143129.41|            2|        0|             1|       64327.26|     0|0.009576033550939368|              1848|2.2250195329320728|      2|           0|              1|(4,[2],[1.0])|      (2,[1],[1.0])|  0.0|\n",
      "|        653| 58|     1|132602.88|            1|        1|             0|        5097.67|     1|  0.1280977387708502|               653| 26.01244882465911|      3|           0|              1|(4,[3],[1.0])|      (2,[1],[1.0])|  1.0|\n",
      "|        549| 24|     9|      0.0|            2|        1|             1|       14406.41|     0| 0.03810803663091638|              4941|               0.0|      1|           1|              2|(4,[1],[1.0])|          (2,[],[])|  0.0|\n",
      "|        587| 45|     6|      0.0|            1|        0|             0|      158684.81|     0|0.003699156838011...|              3522|               0.0|      2|           0|              2|(4,[2],[1.0])|          (2,[],[])|  0.0|\n",
      "|        726| 24|     6|      0.0|            2|        1|             1|       54724.03|     0|0.013266566808036616|              4356|               0.0|      1|           1|              0|(4,[1],[1.0])|      (2,[0],[1.0])|  0.0|\n",
      "+-----------+---+------+---------+-------------+---------+--------------+---------------+------+--------------------+------------------+------------------+-------+------------+---------------+-------------+-------------------+-----+\n",
      "only showing top 20 rows\n",
      "\n"
     ]
    }
   ],
   "source": [
    "#Defining Target\n",
    "stringIndexer = StringIndexer(inputCol='exited', outputCol='label')\n",
    "\n",
    "temp_sdf = stringIndexer.fit(spark_df).transform(spark_df)\n",
    "temp_sdf.show()"
   ]
  },
  {
   "cell_type": "code",
   "execution_count": 29,
   "id": "4aff9820",
   "metadata": {
    "execution": {
     "iopub.execute_input": "2021-11-11T23:46:34.536332Z",
     "iopub.status.busy": "2021-11-11T23:46:34.535271Z",
     "iopub.status.idle": "2021-11-11T23:46:34.711910Z",
     "shell.execute_reply": "2021-11-11T23:46:34.711353Z",
     "shell.execute_reply.started": "2021-11-11T20:35:56.651882Z"
    },
    "papermill": {
     "duration": 0.395799,
     "end_time": "2021-11-11T23:46:34.712152",
     "exception": false,
     "start_time": "2021-11-11T23:46:34.316353",
     "status": "completed"
    },
    "tags": []
   },
   "outputs": [
    {
     "name": "stdout",
     "output_type": "stream",
     "text": [
      "+-----------+---+------+---------+-------------+---------+--------------+---------------+------+--------------------+------------------+------------------+-------+------------+---------------+-------------+-------------------+-----+\n",
      "|creditscore|age|tenure|  balance|numofproducts|hascrcard|isactivemember|estimatedsalary|exited|  creditscore_salary|creditscore_tenure|    balance_salary|age_cat|gender_label|geography_label|  age_cat_ohe|geography_label_ohe|label|\n",
      "+-----------+---+------+---------+-------------+---------+--------------+---------------+------+--------------------+------------------+------------------+-------+------------+---------------+-------------+-------------------+-----+\n",
      "|        619| 42|     2|      0.0|            1|        1|             1|      101348.88|     1|0.006107615594765329|              1238|               0.0|      2|           1|              0|(4,[2],[1.0])|      (2,[0],[1.0])|    1|\n",
      "|        608| 41|     1| 83807.86|            1|        0|             1|      112542.58|     0|0.005402399696186101|               608|0.7446769036217226|      2|           1|              2|(4,[2],[1.0])|          (2,[],[])|    0|\n",
      "|        502| 42|     8| 159660.8|            3|        1|             0|      113931.57|     1|0.004406153623618106|              4016|1.4013745268322026|      2|           1|              0|(4,[2],[1.0])|      (2,[0],[1.0])|    1|\n",
      "|        699| 39|     1|      0.0|            2|        0|             0|       93826.63|     0|0.007449910542454738|               699|               0.0|      2|           1|              0|(4,[2],[1.0])|      (2,[0],[1.0])|    0|\n",
      "|        850| 43|     2|125510.82|            1|        1|             1|        79084.1|     0|0.010748051757559357|              1700|1.5870550464631954|      2|           1|              2|(4,[2],[1.0])|          (2,[],[])|    0|\n",
      "+-----------+---+------+---------+-------------+---------+--------------+---------------+------+--------------------+------------------+------------------+-------+------------+---------------+-------------+-------------------+-----+\n",
      "only showing top 5 rows\n",
      "\n"
     ]
    }
   ],
   "source": [
    "spark_df = temp_sdf.withColumn(\"label\", temp_sdf[\"label\"].cast(\"integer\"))\n",
    "spark_df.show(5)"
   ]
  },
  {
   "cell_type": "markdown",
   "id": "8c8a5d3e",
   "metadata": {
    "papermill": {
     "duration": 0.213421,
     "end_time": "2021-11-11T23:46:35.154507",
     "exception": false,
     "start_time": "2021-11-11T23:46:34.941086",
     "status": "completed"
    },
    "tags": []
   },
   "source": [
    "<div style=\"display:fill;\n",
    "            border-radius: false;\n",
    "            border-style: solid;\n",
    "            border-color:#000000;\n",
    "            border-style: false;\n",
    "            border-width: 2px;\n",
    "            color:#CF673A;\n",
    "            font-size:15px;\n",
    "            font-family: Georgia;\n",
    "            background-color:#E8DCCC;\n",
    "            text-align:center;\n",
    "            letter-spacing:0.1px;\n",
    "            padding: 0.1em;\">\n",
    "\n",
    "**<h2>♡ Thank you for taking the time ♡**"
   ]
  },
  {
   "cell_type": "markdown",
   "id": "cc418198",
   "metadata": {
    "papermill": {
     "duration": 0.214495,
     "end_time": "2021-11-11T23:46:35.583065",
     "exception": false,
     "start_time": "2021-11-11T23:46:35.368570",
     "status": "completed"
    },
    "tags": []
   },
   "source": [
    "#  References"
   ]
  },
  {
   "cell_type": "markdown",
   "id": "37fcb6bb",
   "metadata": {
    "papermill": {
     "duration": 0.218344,
     "end_time": "2021-11-11T23:46:36.018045",
     "exception": false,
     "start_time": "2021-11-11T23:46:35.799701",
     "status": "completed"
    },
    "tags": []
   },
   "source": [
    "* https://github.com/mvahit\n",
    "\n",
    "* https://www.kaggle.com/kemalgunay/pyspark-ml-churn-analysis"
   ]
  }
 ],
 "metadata": {
  "kernelspec": {
   "display_name": "Python 3",
   "language": "python",
   "name": "python3"
  },
  "language_info": {
   "codemirror_mode": {
    "name": "ipython",
    "version": 3
   },
   "file_extension": ".py",
   "mimetype": "text/x-python",
   "name": "python",
   "nbconvert_exporter": "python",
   "pygments_lexer": "ipython3",
   "version": "3.7.10"
  },
  "papermill": {
   "default_parameters": {},
   "duration": 211.219199,
   "end_time": "2021-11-11T23:46:36.945720",
   "environment_variables": {},
   "exception": null,
   "input_path": "__notebook__.ipynb",
   "output_path": "__notebook__.ipynb",
   "parameters": {},
   "start_time": "2021-11-11T23:43:05.726521",
   "version": "2.3.3"
  }
 },
 "nbformat": 4,
 "nbformat_minor": 5
}
